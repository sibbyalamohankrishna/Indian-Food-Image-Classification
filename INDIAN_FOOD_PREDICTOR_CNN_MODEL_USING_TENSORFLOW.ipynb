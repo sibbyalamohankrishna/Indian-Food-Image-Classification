{
 "cells": [
  {
   "cell_type": "code",
   "execution_count": 1,
   "id": "748a83e6",
   "metadata": {},
   "outputs": [],
   "source": [
    "import os"
   ]
  },
  {
   "cell_type": "code",
   "execution_count": 2,
   "id": "3190c8b1",
   "metadata": {},
   "outputs": [
    {
     "data": {
      "text/plain": [
       "['adhirasam',\n",
       " 'aloo_gobi',\n",
       " 'aloo_matar',\n",
       " 'aloo_methi',\n",
       " 'aloo_shimla_mirch',\n",
       " 'aloo_tikki',\n",
       " 'anarsa',\n",
       " 'ariselu',\n",
       " 'bandar_laddu',\n",
       " 'basundi',\n",
       " 'bhatura',\n",
       " 'bhindi_masala',\n",
       " 'biryani',\n",
       " 'boondi',\n",
       " 'butter_chicken',\n",
       " 'chak_hao_kheer',\n",
       " 'cham_cham',\n",
       " 'chana_masala',\n",
       " 'chapati',\n",
       " 'chhena_kheeri',\n",
       " 'chicken_razala',\n",
       " 'chicken_tikka',\n",
       " 'chicken_tikka_masala',\n",
       " 'chikki',\n",
       " 'daal_baati_churma',\n",
       " 'daal_puri',\n",
       " 'dal_makhani',\n",
       " 'dal_tadka',\n",
       " 'dharwad_pedha',\n",
       " 'doodhpak',\n",
       " 'double_ka_meetha',\n",
       " 'dum_aloo',\n",
       " 'gajar_ka_halwa',\n",
       " 'gavvalu',\n",
       " 'ghevar',\n",
       " 'gulab_jamun',\n",
       " 'imarti',\n",
       " 'jalebi',\n",
       " 'kachori',\n",
       " 'kadai_paneer',\n",
       " 'kadhi_pakoda',\n",
       " 'kajjikaya',\n",
       " 'kakinada_khaja',\n",
       " 'kalakand',\n",
       " 'karela_bharta',\n",
       " 'kofta',\n",
       " 'kuzhi_paniyaram',\n",
       " 'lassi',\n",
       " 'ledikeni',\n",
       " 'litti_chokha',\n",
       " 'lyangcha',\n",
       " 'maach_jhol',\n",
       " 'makki_di_roti_sarson_da_saag',\n",
       " 'malapua',\n",
       " 'misi_roti',\n",
       " 'misti_doi',\n",
       " 'modak',\n",
       " 'mysore_pak',\n",
       " 'naan',\n",
       " 'navrattan_korma',\n",
       " 'palak_paneer',\n",
       " 'paneer_butter_masala',\n",
       " 'phirni',\n",
       " 'pithe',\n",
       " 'poha',\n",
       " 'poornalu',\n",
       " 'pootharekulu',\n",
       " 'qubani_ka_meetha',\n",
       " 'rabri',\n",
       " 'rasgulla',\n",
       " 'ras_malai',\n",
       " 'sandesh',\n",
       " 'shankarpali',\n",
       " 'sheera',\n",
       " 'sheer_korma',\n",
       " 'shrikhand',\n",
       " 'sohan_halwa',\n",
       " 'sohan_papdi',\n",
       " 'sutar_feni',\n",
       " 'unni_appam']"
      ]
     },
     "execution_count": 2,
     "metadata": {},
     "output_type": "execute_result"
    }
   ],
   "source": [
    "os.listdir(\"INDIAN_FOOD/Indian Food Images/Indian Food Images/\")"
   ]
  },
  {
   "cell_type": "code",
   "execution_count": 3,
   "id": "d087ce47",
   "metadata": {},
   "outputs": [],
   "source": [
    "Items=['adhirasam',\n",
    " 'aloo_gobi',\n",
    " 'aloo_matar',\n",
    " 'aloo_methi',\n",
    " 'aloo_shimla_mirch',\n",
    " 'aloo_tikki',\n",
    " 'anarsa',\n",
    " 'ariselu',\n",
    " 'bandar_laddu',\n",
    " 'basundi',\n",
    " 'bhatura',\n",
    " 'bhindi_masala',\n",
    " 'biryani',\n",
    " 'boondi',\n",
    " 'butter_chicken',\n",
    " 'chak_hao_kheer',\n",
    " 'cham_cham',\n",
    " 'chana_masala',\n",
    " 'chapati',\n",
    " 'chhena_kheeri',\n",
    " 'chicken_razala',\n",
    " 'chicken_tikka',\n",
    " 'chicken_tikka_masala',\n",
    " 'chikki',\n",
    " 'daal_baati_churma',\n",
    " 'daal_puri',\n",
    " 'dal_makhani',\n",
    " 'dal_tadka',\n",
    " 'dharwad_pedha',\n",
    " 'doodhpak',\n",
    " 'double_ka_meetha',\n",
    " 'dum_aloo',\n",
    " 'gajar_ka_halwa',\n",
    " 'gavvalu',\n",
    " 'ghevar',\n",
    " 'gulab_jamun',\n",
    " 'imarti',\n",
    " 'jalebi',\n",
    " 'kachori',\n",
    " 'kadai_paneer',\n",
    " 'kadhi_pakoda',\n",
    " 'kajjikaya',\n",
    " 'kakinada_khaja',\n",
    " 'kalakand',\n",
    " 'karela_bharta',\n",
    " 'kofta',\n",
    " 'kuzhi_paniyaram',\n",
    " 'lassi',\n",
    " 'ledikeni',\n",
    " 'litti_chokha',\n",
    " 'lyangcha',\n",
    " 'maach_jhol',\n",
    " 'makki_di_roti_sarson_da_saag',\n",
    " 'malapua',\n",
    " 'misi_roti',\n",
    " 'misti_doi',\n",
    " 'modak',\n",
    " 'mysore_pak',\n",
    " 'naan',\n",
    " 'navrattan_korma',\n",
    " 'palak_paneer',\n",
    " 'paneer_butter_masala',\n",
    " 'phirni',\n",
    " 'pithe',\n",
    " 'poha',\n",
    " 'poornalu',\n",
    " 'pootharekulu',\n",
    " 'qubani_ka_meetha',\n",
    " 'rabri',\n",
    " 'rasgulla',\n",
    " 'ras_malai',\n",
    " 'sandesh',\n",
    " 'shankarpali',\n",
    " 'sheera',\n",
    " 'sheer_korma',\n",
    " 'shrikhand',\n",
    " 'sohan_halwa',\n",
    " 'sohan_papdi',\n",
    " 'sutar_feni',\n",
    " 'unni_appam']"
   ]
  },
  {
   "cell_type": "code",
   "execution_count": 4,
   "id": "6b8a9dc9",
   "metadata": {},
   "outputs": [],
   "source": [
    "import tensorflow as tf"
   ]
  },
  {
   "cell_type": "code",
   "execution_count": 5,
   "id": "b47d8562",
   "metadata": {},
   "outputs": [],
   "source": [
    "from tensorflow.keras.preprocessing.image import ImageDataGenerator"
   ]
  },
  {
   "cell_type": "code",
   "execution_count": 6,
   "id": "93a4fc29",
   "metadata": {},
   "outputs": [],
   "source": [
    "datagen=ImageDataGenerator(rescale=1/255.)"
   ]
  },
  {
   "cell_type": "code",
   "execution_count": 7,
   "id": "1e73ebb6",
   "metadata": {},
   "outputs": [],
   "source": [
    "train_dir=\"INDIAN_FOOD/Indian Food Images/Indian Food Images/\""
   ]
  },
  {
   "cell_type": "code",
   "execution_count": 8,
   "id": "9a17d583",
   "metadata": {},
   "outputs": [
    {
     "name": "stdout",
     "output_type": "stream",
     "text": [
      "Found 4000 images belonging to 80 classes.\n"
     ]
    }
   ],
   "source": [
    "train_data=datagen.flow_from_directory(train_dir,batch_size=32,seed=42,class_mode=\"categorical\",target_size=(256,256))"
   ]
  },
  {
   "cell_type": "code",
   "execution_count": 9,
   "id": "c2a3d163",
   "metadata": {},
   "outputs": [
    {
     "data": {
      "text/plain": [
       "125"
      ]
     },
     "execution_count": 9,
     "metadata": {},
     "output_type": "execute_result"
    }
   ],
   "source": [
    "len(train_data)"
   ]
  },
  {
   "cell_type": "code",
   "execution_count": 10,
   "id": "7944a08b",
   "metadata": {},
   "outputs": [],
   "source": [
    "input_shape1=(1,256,256,3)"
   ]
  },
  {
   "cell_type": "code",
   "execution_count": 11,
   "id": "7178127a",
   "metadata": {},
   "outputs": [],
   "source": [
    "from tensorflow.keras.models import Sequential\n",
    "from tensorflow.keras.layers import Conv2D, MaxPooling2D, Dense, Flatten, Dropout"
   ]
  },
  {
   "cell_type": "code",
   "execution_count": 12,
   "id": "584aad3f",
   "metadata": {},
   "outputs": [],
   "source": [
    "model = Sequential()"
   ]
  },
  {
   "cell_type": "code",
   "execution_count": 13,
   "id": "c723f057",
   "metadata": {},
   "outputs": [],
   "source": [
    "model.add(Conv2D(16, (3,3), 1, activation='relu', input_shape=(256,256,3)))\n",
    "model.add(MaxPooling2D())\n",
    "model.add(Conv2D(32, (3,3), 1, activation='relu'))\n",
    "model.add(MaxPooling2D())\n",
    "model.add(Conv2D(16, (3,3), 1, activation='relu'))\n",
    "model.add(MaxPooling2D())\n",
    "model.add(Flatten())\n",
    "model.add(Dense(256, activation='relu'))\n",
    "model.add(Dense(80, activation='softmax'))"
   ]
  },
  {
   "cell_type": "code",
   "execution_count": 14,
   "id": "272bda65",
   "metadata": {},
   "outputs": [
    {
     "name": "stdout",
     "output_type": "stream",
     "text": [
      "Model: \"sequential\"\n",
      "_________________________________________________________________\n",
      " Layer (type)                Output Shape              Param #   \n",
      "=================================================================\n",
      " conv2d (Conv2D)             (None, 254, 254, 16)      448       \n",
      "                                                                 \n",
      " max_pooling2d (MaxPooling2D  (None, 127, 127, 16)     0         \n",
      " )                                                               \n",
      "                                                                 \n",
      " conv2d_1 (Conv2D)           (None, 125, 125, 32)      4640      \n",
      "                                                                 \n",
      " max_pooling2d_1 (MaxPooling  (None, 62, 62, 32)       0         \n",
      " 2D)                                                             \n",
      "                                                                 \n",
      " conv2d_2 (Conv2D)           (None, 60, 60, 16)        4624      \n",
      "                                                                 \n",
      " max_pooling2d_2 (MaxPooling  (None, 30, 30, 16)       0         \n",
      " 2D)                                                             \n",
      "                                                                 \n",
      " flatten (Flatten)           (None, 14400)             0         \n",
      "                                                                 \n",
      " dense (Dense)               (None, 256)               3686656   \n",
      "                                                                 \n",
      " dense_1 (Dense)             (None, 80)                20560     \n",
      "                                                                 \n",
      "=================================================================\n",
      "Total params: 3,716,928\n",
      "Trainable params: 3,716,928\n",
      "Non-trainable params: 0\n",
      "_________________________________________________________________\n"
     ]
    }
   ],
   "source": [
    "model.summary()"
   ]
  },
  {
   "cell_type": "code",
   "execution_count": 15,
   "id": "5ca1aa39",
   "metadata": {},
   "outputs": [],
   "source": [
    "model.compile(loss=tf.keras.losses.CategoricalCrossentropy(),\n",
    "              optimizer=tf.keras.optimizers.Adam(),\n",
    "              metrics=[\"accuracy\"])\n"
   ]
  },
  {
   "cell_type": "code",
   "execution_count": null,
   "id": "d95f9cd1",
   "metadata": {},
   "outputs": [
    {
     "name": "stdout",
     "output_type": "stream",
     "text": [
      "Epoch 1/10\n",
      "125/125 [==============================] - 296s 2s/step - loss: 4.3481 - accuracy: 0.0270\n",
      "Epoch 2/10\n",
      "125/125 [==============================] - 212s 2s/step - loss: 3.2987 - accuracy: 0.2348\n",
      "Epoch 3/10\n",
      "125/125 [==============================] - 203s 2s/step - loss: 1.1520 - accuracy: 0.7247\n",
      "Epoch 4/10\n",
      "125/125 [==============================] - 210s 2s/step - loss: 0.3370 - accuracy: 0.9465\n",
      "Epoch 5/10\n",
      "125/125 [==============================] - 185s 1s/step - loss: 0.1107 - accuracy: 0.9852\n",
      "Epoch 6/10\n",
      "125/125 [==============================] - 215s 2s/step - loss: 0.0782 - accuracy: 0.9893\n",
      "Epoch 7/10\n",
      " 24/125 [====>.........................] - ETA: 3:25 - loss: 0.0429 - accuracy: 0.9909"
     ]
    }
   ],
   "source": [
    "model.fit(train_data,epochs=10,steps_per_epoch=len(train_data))"
   ]
  },
  {
   "cell_type": "code",
   "execution_count": null,
   "id": "ee369929",
   "metadata": {},
   "outputs": [],
   "source": [
    "import matplotlib.pyplot as plt\n",
    "import matplotlib.image as mpimg\n",
    "img=mpimg.imread(\"chapathi.jpeg\")\n",
    "img.shape"
   ]
  },
  {
   "cell_type": "code",
   "execution_count": null,
   "id": "690a492a",
   "metadata": {},
   "outputs": [],
   "source": [
    "plt.imshow(img)"
   ]
  },
  {
   "cell_type": "code",
   "execution_count": null,
   "id": "64db776c",
   "metadata": {},
   "outputs": [],
   "source": [
    "from PIL import Image"
   ]
  },
  {
   "cell_type": "code",
   "execution_count": null,
   "id": "098c5fc4",
   "metadata": {},
   "outputs": [],
   "source": [
    "img_1=Image.open(\"chapathi.jpeg\")"
   ]
  },
  {
   "cell_type": "code",
   "execution_count": null,
   "id": "6eb11595",
   "metadata": {},
   "outputs": [],
   "source": [
    "img_rescaled_size=img_1.resize(size=(256,256))"
   ]
  },
  {
   "cell_type": "code",
   "execution_count": null,
   "id": "87f7d537",
   "metadata": {},
   "outputs": [],
   "source": [
    "import numpy as np"
   ]
  },
  {
   "cell_type": "code",
   "execution_count": null,
   "id": "dde47c56",
   "metadata": {},
   "outputs": [],
   "source": [
    "img_rescale=np.asarray(img_rescaled_size)/255."
   ]
  },
  {
   "cell_type": "code",
   "execution_count": null,
   "id": "6a6832a8",
   "metadata": {},
   "outputs": [],
   "source": [
    "img_rescale.shape"
   ]
  },
  {
   "cell_type": "code",
   "execution_count": null,
   "id": "593c62b3",
   "metadata": {},
   "outputs": [],
   "source": [
    "p1=model.predict(img_rescale[np.newaxis,...])"
   ]
  },
  {
   "cell_type": "code",
   "execution_count": null,
   "id": "affb4e14",
   "metadata": {},
   "outputs": [],
   "source": [
    "item=np.argmax(p1)\n",
    "plt.imshow(img_1)\n",
    "Items[item]"
   ]
  },
  {
   "cell_type": "code",
   "execution_count": null,
   "id": "12c45635",
   "metadata": {},
   "outputs": [],
   "source": [
    "def image_name_result():\n",
    "    img=Image.open(\"#imagefileaddress\")\n",
    "    img_reshaped=img.resize(size=(256,256))\n",
    "    img_rescale=np.asarray(img_reshaped)/255\n",
    "    img_predict=model.predict(img_rescale[np.newaxis,...])\n",
    "    item=np.argmax(img_predict)\n",
    "    print(Items[item])"
   ]
  },
  {
   "cell_type": "code",
   "execution_count": null,
   "id": "cacd66ef",
   "metadata": {},
   "outputs": [],
   "source": [
    "#image_name_result()"
   ]
  },
  {
   "cell_type": "code",
   "execution_count": null,
   "id": "81303fe3",
   "metadata": {},
   "outputs": [],
   "source": []
  },
  {
   "cell_type": "code",
   "execution_count": null,
   "id": "28f016b6",
   "metadata": {},
   "outputs": [],
   "source": []
  },
  {
   "cell_type": "code",
   "execution_count": null,
   "id": "29d66abf",
   "metadata": {},
   "outputs": [],
   "source": []
  }
 ],
 "metadata": {
  "kernelspec": {
   "display_name": "Python 3 (ipykernel)",
   "language": "python",
   "name": "python3"
  },
  "language_info": {
   "codemirror_mode": {
    "name": "ipython",
    "version": 3
   },
   "file_extension": ".py",
   "mimetype": "text/x-python",
   "name": "python",
   "nbconvert_exporter": "python",
   "pygments_lexer": "ipython3",
   "version": "3.9.12"
  }
 },
 "nbformat": 4,
 "nbformat_minor": 5
}
